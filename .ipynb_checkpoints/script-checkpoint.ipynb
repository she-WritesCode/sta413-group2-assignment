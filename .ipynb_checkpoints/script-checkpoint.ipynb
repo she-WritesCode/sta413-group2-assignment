{
 "cells": [
  {
   "cell_type": "code",
   "execution_count": 8,
   "metadata": {},
   "outputs": [
    {
     "name": "stdout",
     "output_type": "stream",
     "text": [
      "  Location  Description       IValue\n",
      "0        H1           1D    0.000000\n",
      "1        H1           2D    0.000000\n",
      "2        H1           3D  195.928571\n",
      "3        H1           4D   68.142857\n",
      "4        H1           5D    3.142857\n",
      "    Location  Description        IValue\n",
      "379        L2          60D     0.000000\n",
      "380        L2          61D   103.928571\n",
      "381        L2          62D  1973.042857\n",
      "382        L2          63D     0.000000\n",
      "383        L2          64D     0.000000\n",
      "Location                 H1           H2             L1             L2  \\\n",
      "Description                                                              \n",
      "10D           629781.428571     0.000000    2965.428571       0.000000   \n",
      "11D              215.285714    61.071429     953.642857     692.214286   \n",
      "12D              603.000000  1729.714286  107674.214286  105704.571429   \n",
      "13D               13.557143     0.000000      65.971429     104.028571   \n",
      "14D                0.000000     0.000000       0.000000       0.000000   \n",
      "...                     ...          ...            ...            ...   \n",
      "64D                0.000000     0.000000       0.000000       0.000000   \n",
      "6D                 0.000000     0.000000       0.000000       0.000000   \n",
      "7D                75.785714     0.000000       0.000000       0.000000   \n",
      "8D                 0.071429     0.000000       0.000000       0.000000   \n",
      "9D                 0.000000     0.000000       8.785714       0.000000   \n",
      "\n",
      "Location               M1          M2  \n",
      "Description                            \n",
      "10D           2982.571429    0.000000  \n",
      "11D            696.357143   23.000000  \n",
      "12D           3597.142857  125.357143  \n",
      "13D             20.128571    0.000000  \n",
      "14D              0.000000    0.000000  \n",
      "...                   ...         ...  \n",
      "64D              0.000000    0.000000  \n",
      "6D               0.000000    0.000000  \n",
      "7D               6.142857    0.000000  \n",
      "8D               1.642857    0.000000  \n",
      "9D               0.000000    0.000000  \n",
      "\n",
      "[64 rows x 6 columns]\n",
      "Location \n",
      "H1    float64\n",
      "H2    float64\n",
      "L1    float64\n",
      "L2    float64\n",
      "M1    float64\n",
      "M2    float64\n",
      "dtype: object\n"
     ]
    }
   ],
   "source": [
    "# STA 413 DATA ANALYSIS\n",
    "# GROUP 1\n",
    "\n",
    "import numpy as np\n",
    "import pandas as pd\n",
    "import matplotlib.pyplot as plt\n",
    "import seaborn as sns\n",
    "\n",
    "# inline coding\n",
    "%matplotlib inline\n",
    "#pd.set_option('display.max_rows', 384)\n",
    "\n",
    "# BRING IN THE DATA SETS\n",
    "df = pd.read_excel('mat413_assignData_Team1.xlsx', 'WI')\n",
    "\n",
    "print(df.head())\n",
    "print(df.tail())\n",
    "\n"
   ]
  },
  {
   "cell_type": "code",
   "execution_count": null,
   "metadata": {},
   "outputs": [],
   "source": [
    "# RESHAPE IT TO ANALYSIS BY LOCATION\n",
    "reshaped_df = df.pivot(index=\"Description \", columns='Location ', values=\"IValue\").sort_values('Description ')\n",
    "print(reshaped_df)\n",
    "# check the datatypes\n",
    "print(reshaped_df.dtypes)\n",
    "\n",
    "# STORE RESHAPED DATA\n",
    "reshaped_df.to_csv('reshaped_data.csv', encoding='utf-8')"
   ]
  },
  {
   "cell_type": "code",
   "execution_count": 2,
   "metadata": {},
   "outputs": [
    {
     "data": {
      "text/html": [
       "<div>\n",
       "<style scoped>\n",
       "    .dataframe tbody tr th:only-of-type {\n",
       "        vertical-align: middle;\n",
       "    }\n",
       "\n",
       "    .dataframe tbody tr th {\n",
       "        vertical-align: top;\n",
       "    }\n",
       "\n",
       "    .dataframe thead th {\n",
       "        text-align: right;\n",
       "    }\n",
       "</style>\n",
       "<table border=\"1\" class=\"dataframe\">\n",
       "  <thead>\n",
       "    <tr style=\"text-align: right;\">\n",
       "      <th>Location</th>\n",
       "      <th>H1</th>\n",
       "      <th>H2</th>\n",
       "      <th>L1</th>\n",
       "      <th>L2</th>\n",
       "      <th>M1</th>\n",
       "      <th>M2</th>\n",
       "    </tr>\n",
       "  </thead>\n",
       "  <tbody>\n",
       "    <tr>\n",
       "      <td>count</td>\n",
       "      <td>64.000000</td>\n",
       "      <td>64.000000</td>\n",
       "      <td>64.000000</td>\n",
       "      <td>64.000000</td>\n",
       "      <td>64.000000</td>\n",
       "      <td>64.000000</td>\n",
       "    </tr>\n",
       "    <tr>\n",
       "      <td>mean</td>\n",
       "      <td>10183.009783</td>\n",
       "      <td>632.636938</td>\n",
       "      <td>2594.330029</td>\n",
       "      <td>2219.886607</td>\n",
       "      <td>324.940672</td>\n",
       "      <td>151.267779</td>\n",
       "    </tr>\n",
       "    <tr>\n",
       "      <td>std</td>\n",
       "      <td>78685.681828</td>\n",
       "      <td>3486.818865</td>\n",
       "      <td>13948.784426</td>\n",
       "      <td>13415.804523</td>\n",
       "      <td>1044.923554</td>\n",
       "      <td>780.175817</td>\n",
       "    </tr>\n",
       "    <tr>\n",
       "      <td>min</td>\n",
       "      <td>0.000000</td>\n",
       "      <td>0.000000</td>\n",
       "      <td>0.000000</td>\n",
       "      <td>0.000000</td>\n",
       "      <td>0.000000</td>\n",
       "      <td>0.000000</td>\n",
       "    </tr>\n",
       "    <tr>\n",
       "      <td>25%</td>\n",
       "      <td>0.000000</td>\n",
       "      <td>0.000000</td>\n",
       "      <td>0.000000</td>\n",
       "      <td>0.000000</td>\n",
       "      <td>0.000000</td>\n",
       "      <td>0.000000</td>\n",
       "    </tr>\n",
       "    <tr>\n",
       "      <td>50%</td>\n",
       "      <td>3.428571</td>\n",
       "      <td>0.000000</td>\n",
       "      <td>2.385714</td>\n",
       "      <td>0.000000</td>\n",
       "      <td>3.321429</td>\n",
       "      <td>0.000000</td>\n",
       "    </tr>\n",
       "    <tr>\n",
       "      <td>75%</td>\n",
       "      <td>138.389286</td>\n",
       "      <td>17.642857</td>\n",
       "      <td>209.607143</td>\n",
       "      <td>113.785714</td>\n",
       "      <td>76.829929</td>\n",
       "      <td>23.142857</td>\n",
       "    </tr>\n",
       "    <tr>\n",
       "      <td>max</td>\n",
       "      <td>629781.428571</td>\n",
       "      <td>27528.214286</td>\n",
       "      <td>107674.214286</td>\n",
       "      <td>105704.571429</td>\n",
       "      <td>6698.142857</td>\n",
       "      <td>6155.857143</td>\n",
       "    </tr>\n",
       "  </tbody>\n",
       "</table>\n",
       "</div>"
      ],
      "text/plain": [
       "Location              H1            H2             L1             L2  \\\n",
       "count          64.000000     64.000000      64.000000      64.000000   \n",
       "mean        10183.009783    632.636938    2594.330029    2219.886607   \n",
       "std         78685.681828   3486.818865   13948.784426   13415.804523   \n",
       "min             0.000000      0.000000       0.000000       0.000000   \n",
       "25%             0.000000      0.000000       0.000000       0.000000   \n",
       "50%             3.428571      0.000000       2.385714       0.000000   \n",
       "75%           138.389286     17.642857     209.607143     113.785714   \n",
       "max        629781.428571  27528.214286  107674.214286  105704.571429   \n",
       "\n",
       "Location            M1           M2  \n",
       "count        64.000000    64.000000  \n",
       "mean        324.940672   151.267779  \n",
       "std        1044.923554   780.175817  \n",
       "min           0.000000     0.000000  \n",
       "25%           0.000000     0.000000  \n",
       "50%           3.321429     0.000000  \n",
       "75%          76.829929    23.142857  \n",
       "max        6698.142857  6155.857143  "
      ]
     },
     "execution_count": 2,
     "metadata": {},
     "output_type": "execute_result"
    }
   ],
   "source": [
    "# FIVE NUMBER SUMMARY\n",
    "reshaped_df.describe()"
   ]
  },
  {
   "cell_type": "code",
   "execution_count": 4,
   "metadata": {},
   "outputs": [
    {
     "name": "stdout",
     "output_type": "stream",
     "text": [
      "Location \n",
      "H2    0.000000\n",
      "L2    0.000000\n",
      "M2    0.000000\n",
      "L1    2.385714\n",
      "M1    3.321429\n",
      "H1    3.428571\n",
      "Name: IValue, dtype: float64\n"
     ]
    },
    {
     "data": {
      "text/plain": [
       "<matplotlib.axes._subplots.AxesSubplot at 0x249bcb3fbc8>"
      ]
     },
     "execution_count": 4,
     "metadata": {},
     "output_type": "execute_result"
    },
    {
     "data": {
      "image/png": "[encoded data removed]",
      "text/plain": [
       "<Figure size 864x360 with 1 Axes>"
      ]
     },
     "metadata": {},
     "output_type": "display_data"
    }
   ],
   "source": [
    "# diplay boxplot of all locations vs ivalue\n",
    "sns.set(style='whitegrid', palette=\"deep\", font_scale=1.1, rc={\"figure.figsize\": [12, 5]})\n",
    "\n",
    "\n",
    "sorted_nb = df.groupby(['Location '])['IValue'].median().sort_values()\n",
    "print(sorted_nb)\n",
    "sns.boxplot(x=df['Location '], y=df['IValue'], order=list(sorted_nb.index))"
   ]
  },
  {
   "cell_type": "code",
   "execution_count": null,
   "metadata": {},
   "outputs": [],
   "source": []
  }
 ],
 "metadata": {
  "kernelspec": {
   "display_name": "Python 3",
   "language": "python",
   "name": "python3"
  },
  "language_info": {
   "codemirror_mode": {
    "name": "ipython",
    "version": 3
   },
   "file_extension": ".py",
   "mimetype": "text/x-python",
   "name": "python",
   "nbconvert_exporter": "python",
   "pygments_lexer": "ipython3",
   "version": "3.7.4"
  }
 },
 "nbformat": 4,
 "nbformat_minor": 2
}
